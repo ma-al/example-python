{
 "cells": [
  {
   "cell_type": "markdown",
   "metadata": {},
   "source": [
    "# Summary\n",
    "Just an example of a Jupyter notebook stored within the repository."
   ]
  },
  {
   "cell_type": "code",
   "execution_count": 1,
   "metadata": {},
   "outputs": [
    {
     "name": "stdout",
     "output_type": "stream",
     "text": [
      "3.9.6 (default, Aug 18 2021, 12:38:10) \n",
      "[Clang 10.0.0 ]\n",
      "/Users/alm021/github/example-python/example_python/notebooks\n"
     ]
    }
   ],
   "source": [
    "import sys\n",
    "from pathlib import Path\n",
    "\n",
    "print(sys.version)\n",
    "print(Path().absolute())"
   ]
  },
  {
   "cell_type": "code",
   "execution_count": 2,
   "metadata": {},
   "outputs": [
    {
     "name": "stdout",
     "output_type": "stream",
     "text": [
      "appdirs                   1.4.4                    pypi_0    pypi\r\n",
      "filelock                  3.0.12                   pypi_0    pypi\r\n",
      "idna                      3.2                      pypi_0    pypi\r\n",
      "uritools                  3.0.2                    pypi_0    pypi\r\n",
      "urlextract                1.3.0                    pypi_0    pypi\r\n"
     ]
    }
   ],
   "source": [
    "!conda list | grep pypi"
   ]
  },
  {
   "cell_type": "markdown",
   "metadata": {},
   "source": [
    "# Access code elsewhere in repo\n",
    "Below is a bit of a hack to import your code in other folders within the same repo.\n",
    "\n",
    "You don't need to do this if running in Visual Studio Code. If anyone has a better way, please let me know."
   ]
  },
  {
   "cell_type": "code",
   "execution_count": 3,
   "metadata": {},
   "outputs": [],
   "source": [
    "# adds the root of the repository as a Python path\n",
    "package_root = str(Path().absolute().parent.parent)\n",
    "sys.path.append(package_root)"
   ]
  },
  {
   "cell_type": "code",
   "execution_count": 4,
   "metadata": {},
   "outputs": [
    {
     "name": "stdout",
     "output_type": "stream",
     "text": [
      "1.0.0\n",
      "https://github.com/ma-al/example-python\n",
      "Example Python repository for Cyber Security Cooperative Research Centre\n"
     ]
    }
   ],
   "source": [
    "from example_python.__about__ import __version__, __url__, __description__\n",
    "print(__version__)\n",
    "print(__url__)\n",
    "print(__description__)"
   ]
  },
  {
   "cell_type": "code",
   "execution_count": 5,
   "metadata": {},
   "outputs": [
    {
     "data": {
      "text/plain": [
       "7"
      ]
     },
     "execution_count": 5,
     "metadata": {},
     "output_type": "execute_result"
    }
   ],
   "source": [
    "from example_python.util import get_integer\n",
    "get_integer()"
   ]
  }
 ],
 "metadata": {
  "interpreter": {
   "hash": "9a17f156dbc9d74f7d8edb98b4bc8fb807250bb91407c4b4d2229e2120c9c030"
  },
  "kernelspec": {
   "display_name": "Python 3",
   "language": "python",
   "name": "python3"
  },
  "language_info": {
   "codemirror_mode": {
    "name": "ipython",
    "version": 3
   },
   "file_extension": ".py",
   "mimetype": "text/x-python",
   "name": "python",
   "nbconvert_exporter": "python",
   "pygments_lexer": "ipython3",
   "version": "3.9.6"
  }
 },
 "nbformat": 4,
 "nbformat_minor": 2
}
